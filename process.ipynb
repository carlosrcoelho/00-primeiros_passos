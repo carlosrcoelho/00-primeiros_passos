{
 "cells": [
  {
   "cell_type": "markdown",
   "metadata": {},
   "source": [
    "# Utilizando 'if', 'elif' e 'else' para criar um programa por input"
   ]
  },
  {
   "cell_type": "markdown",
   "metadata": {},
   "source": [
    "### Escreva um programa que peça à pessoa usuária para fornecer dois números e exibir o número maior."
   ]
  },
  {
   "cell_type": "code",
   "execution_count": 3,
   "metadata": {},
   "outputs": [
    {
     "name": "stdout",
     "output_type": "stream",
     "text": [
      "O número 80 é maior que o número 60.\n"
     ]
    }
   ],
   "source": [
    "numero1 = int(input('Digite o primeiro numero: '))\n",
    "numero2 = int(input('Digite o segundo numero: '))\n",
    "\n",
    "if numero1 > numero2:\n",
    "    print(f'O número {numero1} é maior que o número {numero2}.')\n",
    "elif numero2 > numero1:\n",
    "    print(f'O número {numero2} é maior que o número {numero1}.')\n",
    "else:\n",
    "    print(f'Os números {numero1} e {numero2} são iguais.')"
   ]
  },
  {
   "cell_type": "markdown",
   "metadata": {},
   "source": [
    "###  Escreva um programa que solicite o percentual de crescimento de produção de uma empresa e informe se houve um crescimento (porcentagem positiva) ou decrescimento (porcentagem negativa)."
   ]
  },
  {
   "cell_type": "code",
   "execution_count": 3,
   "metadata": {},
   "outputs": [
    {
     "name": "stdout",
     "output_type": "stream",
     "text": [
      "A produção não sofreu alteração.\n"
     ]
    }
   ],
   "source": [
    "percentual_crescimento = int(input('Digite o percentual de crescimento da producao: %'))\n",
    "\n",
    "if percentual_crescimento > 0:\n",
    "    print(f'A produção aumentou {percentual_crescimento}%')\n",
    "elif percentual_crescimento < 0:\n",
    "    print(f'A produção diminuiu {percentual_crescimento}%')\n",
    "else:\n",
    "    print(f'A produção não sofreu alteração.')"
   ]
  },
  {
   "cell_type": "markdown",
   "metadata": {},
   "source": [
    "### Escreva um programa que determine se uma letra fornecida pela pessoa usuária é uma vogal ou consoante."
   ]
  },
  {
   "cell_type": "code",
   "execution_count": 7,
   "metadata": {},
   "outputs": [
    {
     "name": "stdout",
     "output_type": "stream",
     "text": [
      "A letra e é uma vogal.\n"
     ]
    }
   ],
   "source": [
    "letra = input('Digite uma letra: ')\n",
    "if letra in 'aeiou':\n",
    "    print(f'A letra {letra} é uma vogal.')\n",
    "else:\n",
    "    print(f'A letra {letra} é uma consoante.')"
   ]
  },
  {
   "cell_type": "markdown",
   "metadata": {},
   "source": [
    "### Escreva um programa que leia valores médios de preços de um modelo de carro por 3 anos consecutivos e exiba o valor mais alto e mais baixo entre esses três anos."
   ]
  },
  {
   "cell_type": "code",
   "execution_count": 8,
   "metadata": {},
   "outputs": [
    {
     "name": "stdout",
     "output_type": "stream",
     "text": [
      "O preço mais alto foi de R$200000.00 e o mais baixo foi de R$55000.00.\n"
     ]
    }
   ],
   "source": [
    "preco_ano1 = float(input('Digite o preço médio do produto no ano 1: '))\n",
    "preco_ano2 = float(input('Digite o preço médio do produto no ano 2: '))\n",
    "preco_ano3 = float(input('Digite o preço médio do produto no ano 3: '))\n",
    "\n",
    "# determinar o ano com o maior preço\n",
    "maior_preco = preco_ano1\n",
    "if preco_ano2 > maior_preco:\n",
    "    maior_preco = preco_ano2\n",
    "if preco_ano3 > maior_preco:\n",
    "    maior_preco = preco_ano3\n",
    "\n",
    "# determinar o ano com o menor preço\n",
    "menor_preco = preco_ano1\n",
    "if preco_ano2 < menor_preco:\n",
    "    menor_preco = preco_ano2\n",
    "if preco_ano3 < menor_preco:\n",
    "    menor_preco = preco_ano3\n",
    "\n",
    "print(f'O preço mais alto foi de R${maior_preco:.2f} e o mais baixo foi de R${menor_preco:.2f}.')"
   ]
  },
  {
   "cell_type": "markdown",
   "metadata": {},
   "source": [
    "### Escreva um programa que pergunte sobre o preço de três produtos e indique qual é o produto mais barato para comprar."
   ]
  },
  {
   "cell_type": "code",
   "execution_count": 13,
   "metadata": {},
   "outputs": [
    {
     "name": "stdout",
     "output_type": "stream",
     "text": [
      "O produto 2 é o mais barato, custando R$40.00.\n"
     ]
    }
   ],
   "source": [
    "produto1 = float(input('Digite o preço do produto 1: '))\n",
    "produto2 = float(input('Digite o preço do produto 2: '))\n",
    "produto3 = float(input('Digite o preço do produto 3: '))\n",
    "\n",
    "# determinar o produto mais barato\n",
    "if produto1 < produto2 and produto1 < produto3:\n",
    "    print(f'O produto 1 é o mais barato, custando R${produto1:.2f}.')\n",
    "elif produto2 < produto1 and produto2 < produto3:\n",
    "    print(f'O produto 2 é o mais barato, custando R${produto2:.2f}.')\n",
    "else:\n",
    "    print(f'O produto 3 é o mais barato, custando R${produto3:.2f}.')"
   ]
  },
  {
   "cell_type": "markdown",
   "metadata": {},
   "source": [
    "### Escreva um programa que leia três números e os exiba em ordem decrescente."
   ]
  },
  {
   "cell_type": "code",
   "execution_count": 17,
   "metadata": {},
   "outputs": [
    {
     "name": "stdout",
     "output_type": "stream",
     "text": [
      "964\n",
      "512\n",
      "250\n"
     ]
    }
   ],
   "source": [
    "numero1 = int(input('Digite o primeiro numero: '))\n",
    "numero2 = int(input('Digite o segundo numero: '))\n",
    "numero3 = int(input('Digite o terceiro numero: '))\n",
    "\n",
    "# exiba os números em ordem decrescente\n",
    "if numero1 > numero2 and numero1 > numero3: \n",
    "    print(numero1)\n",
    "    if numero2 > numero3:\n",
    "        print(numero2)\n",
    "        print(numero3)\n",
    "    else:\n",
    "        print(numero3)\n",
    "        print(numero2)\n",
    "elif numero2 > numero1 and numero2 > numero3:\n",
    "    print(numero2)\n",
    "    if numero1 > numero3:\n",
    "        print(numero1)\n",
    "        print(numero3)\n",
    "    else:\n",
    "        print(numero3)\n",
    "        print(numero1)\n",
    "else:\n",
    "    print(numero3)\n",
    "    if numero1 > numero2:\n",
    "        print(numero1)\n",
    "        print(numero2)\n",
    "    else:\n",
    "        print(numero2)\n",
    "        print(numero1)\n",
    "        "
   ]
  },
  {
   "cell_type": "markdown",
   "metadata": {},
   "source": [
    "### Escreva um programa que pergunte em qual turno a pessoa usuária estuda (\"manhã\", \"tarde\" ou \"noite\") e exiba a mensagem \"Bom Dia!\", \"Boa Tarde!\", \"Boa Noite!\", ou \"Valor Inválido!\", conforme o caso."
   ]
  },
  {
   "cell_type": "code",
   "execution_count": 20,
   "metadata": {},
   "outputs": [
    {
     "name": "stdout",
     "output_type": "stream",
     "text": [
      "Boa tarde!\n"
     ]
    }
   ],
   "source": [
    "horario_de_estudo = input('Qual turno você estuda? Digite manhã, tarde ou noite: ')\n",
    "\n",
    "if horario_de_estudo == 'manhã':\n",
    "    print('Bom dia!')\n",
    "elif horario_de_estudo == 'tarde':\n",
    "    print('Boa tarde!')\n",
    "elif horario_de_estudo == 'noite':\n",
    "    print('Boa noite!')\n",
    "else:\n",
    "    print('Valor inválido.')\n",
    "    "
   ]
  },
  {
   "cell_type": "markdown",
   "metadata": {},
   "source": [
    "### Escreva um programa que peça um número inteiro à pessoa usuária e determine se ele é par ou ímpar. Dica: Você pode utilizar o operador módulo %."
   ]
  },
  {
   "cell_type": "code",
   "execution_count": 23,
   "metadata": {},
   "outputs": [
    {
     "name": "stdout",
     "output_type": "stream",
     "text": [
      "O número 66 é par.\n"
     ]
    }
   ],
   "source": [
    "numero = int(input('Digite um número: '))\n",
    "\n",
    "if numero % 2 == 0:\n",
    "    print(f'O número {numero} é par.')\n",
    "else:\n",
    "    print(f'O número {numero} é ímpar.')"
   ]
  },
  {
   "cell_type": "markdown",
   "metadata": {},
   "source": [
    "### Escreva um programa que peça um número à pessoa usuária e informe se ele é inteiro ou decimal."
   ]
  },
  {
   "cell_type": "code",
   "execution_count": 26,
   "metadata": {},
   "outputs": [
    {
     "name": "stdout",
     "output_type": "stream",
     "text": [
      "O número 11.2 é decimal.\n"
     ]
    }
   ],
   "source": [
    "numero = float(input('Digite um número: '))\n",
    "\n",
    "# exiba se o numero é inteiro ou decimal\n",
    "if numero % 1 == 0:\n",
    "    print(f'O número {numero} é inteiro.')\n",
    "else:\n",
    "    print(f'O número {numero} é decimal.')\n",
    "    "
   ]
  },
  {
   "cell_type": "markdown",
   "metadata": {},
   "source": [
    "### Um programa deve ser escrito para ler dois números e, em seguida, perguntar à pessoa usuária qual operação ele deseja realizar. O resultado da operação deve incluir informações sobre o número - se é par ou ímpar, positivo ou negativo e inteiro ou decimal."
   ]
  },
  {
   "cell_type": "code",
   "execution_count": 30,
   "metadata": {},
   "outputs": [
    {
     "name": "stdout",
     "output_type": "stream",
     "text": [
      "O resultado 6 é par.\n",
      "O resultado 6 é positivo.\n",
      "O resultado 6 é inteiro.\n"
     ]
    }
   ],
   "source": [
    "numero1 = int(input('Digite o primeiro numero: '))\n",
    "numero2 = int(input('Digite o segundo numero: '))\n",
    "\n",
    "operacao = input('Digite a operação desejada (+, -, *, /): ')\n",
    "\n",
    "# realizando a operação\n",
    "if operacao == '+':\n",
    "    resultado = numero1 + numero2\n",
    "elif operacao == '-':\n",
    "    resultado = numero1 - numero2\n",
    "elif operacao == '*':\n",
    "    resultado = numero1 * numero2\n",
    "elif operacao == '/':\n",
    "    resultado = numero1 / numero2\n",
    "else:\n",
    "    print('Operação inválida. O resultado será 0.')\n",
    "    resultado = 0\n",
    "\n",
    "# se o numero eh par ou impar\n",
    "if resultado % 2 == 0:\n",
    "    print(f'O resultado {resultado} é par.')\n",
    "else:   \n",
    "    print(f'O resultado {resultado} é ímpar.')\n",
    "\n",
    "# se o numero eh positivo ou negativo\n",
    "if resultado > 0:\n",
    "    print(f'O resultado {resultado} é positivo.')\n",
    "elif resultado < 0:\n",
    "    print(f'O resultado {resultado} é negativo.')\n",
    "else:\n",
    "    print(f'O resultado {resultado} é nulo.')\n",
    "\n",
    "# se o numero eh inteiro ou decimal\n",
    "if resultado % 1 == 0:\n",
    "    print(f'O resultado {resultado} é inteiro.')\n",
    "else:\n",
    "    print(f'O resultado {resultado} é decimal.')\n"
   ]
  },
  {
   "cell_type": "markdown",
   "metadata": {},
   "source": [
    "### Um estabelecimento está vendendo combustíveis com descontos variados. Para o etanol, se a quantidade comprada for até 15 litros, o desconto será de 2% por litro. Caso contrário, será de 4% por litro. Para o diesel, se a quantidade comprada for até 15 litros, o desconto será de 3% por litro. Caso contrário, será de 5% por litro. O preço do litro de diesel é R$ 2,00 e o preço do litro de etanol é R$ 1,70. Escreva um programa que leia a quantidade de litros vendidos e o tipo de combustível (E para etanol e D para diesel) e calcule o valor a ser pago pelo cliente. Tenha em mente algumas dicas:\n",
    "\n",
    "    - O do valor do desconto será a multiplicação entre preço do litro, quantidade de litros e o valor do desconto.\n",
    "    - O valor a ser pago por um cliente será o resultado da multiplicação do preço do litro pela quantidade de litros menos o valor de desconto resultante do cálculo."
   ]
  },
  {
   "cell_type": "code",
   "execution_count": 34,
   "metadata": {},
   "outputs": [
    {
     "name": "stdout",
     "output_type": "stream",
     "text": [
      "O valor a ser pago de diesel é de R$190.00.\n"
     ]
    }
   ],
   "source": [
    "combustivel = input('Digite o tipo de combustível: E-etanol, D-diesel: ')\n",
    "litros = float(input('Digite a quantidade de litros: '))\n",
    "preco_etanol = 1.70\n",
    "preco_diesel = 2.00\n",
    "\n",
    "# Para o etanol, se a quantidade comprada for até 15 litros, o desconto será de 2% por litro. Caso contrário, será de 4% por litro.\n",
    "if combustivel == 'E':\n",
    "    if litros <= 15:\n",
    "        valor = litros * preco_etanol * 0.98\n",
    "    else:\n",
    "        valor = litros * preco_etanol * 0.96\n",
    "    print(f'O valor a ser pago de etanol é de R${valor:.2f}.')\n",
    "\n",
    "# Para o diesel, se a quantidade comprada for até 15 litros, o desconto será de 3% por litro. Caso contrário, será de 5% por litro. \n",
    "elif combustivel == 'D':\n",
    "    if litros <= 15:\n",
    "        valor = litros * preco_diesel * 0.97\n",
    "    else:\n",
    "        valor = litros * preco_diesel * 0.95\n",
    "    print(f'O valor a ser pago de diesel é de R${valor:.2f}.')\n",
    "\n",
    "\n"
   ]
  },
  {
   "cell_type": "markdown",
   "metadata": {},
   "source": [
    "### Em uma empresa de venda de imóveis você precisa criar um código que analise os dados de vendas anuais para ajudar a diretoria na tomada de decisão. O código precisa coletar os dados de quantidade de venda durante os anos de 2022 e 2023 e fazer um cálculo de variação percentual. A partir do valor da variação, deve ser enviada às seguintes sugestões:\n",
    "\n",
    "    - Para variação acima de 20%: bonificação para o time de vendas.\n",
    "    - Para variação entre 2% e 20%: pequena bonificação para time de vendas.\n",
    "    - Para variação entre 2% e -10%: planejamento de políticas de incentivo às vendas.\n",
    "    - Para bonificações abaixo de -10%: corte de gastos."
   ]
  },
  {
   "cell_type": "code",
   "execution_count": 39,
   "metadata": {},
   "outputs": [
    {
     "name": "stdout",
     "output_type": "stream",
     "text": [
      "Atenção! O time de vendas precisa de corte de gastos.\n"
     ]
    }
   ],
   "source": [
    "quantidade_vendas1 = int(input('Digite a quantidade de vendas de imóveis no ano de 2022: '))\n",
    "quantidade_vendas2 = int(input('Digite a quantidade de vendas de imóveis no ano de 2023: '))\n",
    "\n",
    "# calculo de variação percentual\n",
    "variacao_percentual = (quantidade_vendas2 - quantidade_vendas1) / quantidade_vendas1 * 100\n",
    "\n",
    "# Se a variação acima de 20%: bonificação para o time de vendas.\n",
    "if variacao_percentual > 20:\n",
    "    print(f'Parabéns! O time de vendas receberá uma bonificação!')\n",
    "\n",
    "# Se a variação entre 2% e 20%: pequena bonificação para time de vendas.\n",
    "elif variacao_percentual >= 2 and variacao_percentual <= 20:\n",
    "    print(f'Parabéns! O time de vendas receberá uma pequena bonificação!')\n",
    "\n",
    "# Se a variação entre 2% e -10%: planejamento de políticas de incentivo às vendas.\n",
    "elif variacao_percentual >= -10 and variacao_percentual < 2:\n",
    "    print(f'Atenção! O time de vendas precisa de planejamento de políticas de incentivo às vendas.')\n",
    "\n",
    "# bonificações abaixo de -10%: corte de gastos.\n",
    "else:\n",
    "    print(f'Atenção! O time de vendas precisa de corte de gastos.')"
   ]
  },
  {
   "cell_type": "code",
   "execution_count": null,
   "metadata": {},
   "outputs": [],
   "source": []
  }
 ],
 "metadata": {
  "kernelspec": {
   "display_name": "Python 3",
   "language": "python",
   "name": "python3"
  },
  "language_info": {
   "codemirror_mode": {
    "name": "ipython",
    "version": 3
   },
   "file_extension": ".py",
   "mimetype": "text/x-python",
   "name": "python",
   "nbconvert_exporter": "python",
   "pygments_lexer": "ipython3",
   "version": "3.10.6"
  },
  "orig_nbformat": 4
 },
 "nbformat": 4,
 "nbformat_minor": 2
}
