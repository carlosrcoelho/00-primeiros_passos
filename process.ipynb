{
 "cells": [
  {
   "cell_type": "markdown",
   "metadata": {},
   "source": [
    "# Utilizando 'if', 'elif' e 'else' para criar um programa por input"
   ]
  },
  {
   "cell_type": "markdown",
   "metadata": {},
   "source": [
    "### Escreva um programa que peça à pessoa usuária para fornecer dois números e exibir o número maior."
   ]
  },
  {
   "cell_type": "code",
   "execution_count": 3,
   "metadata": {},
   "outputs": [
    {
     "name": "stdout",
     "output_type": "stream",
     "text": [
      "O número 80 é maior que o número 60.\n"
     ]
    }
   ],
   "source": [
    "numero1 = int(input('Digite o primeiro numero: '))\n",
    "numero2 = int(input('Digite o segundo numero: '))\n",
    "\n",
    "if numero1 > numero2:\n",
    "    print(f'O número {numero1} é maior que o número {numero2}.')\n",
    "elif numero2 > numero1:\n",
    "    print(f'O número {numero2} é maior que o número {numero1}.')\n",
    "else:\n",
    "    print(f'Os números {numero1} e {numero2} são iguais.')"
   ]
  },
  {
   "cell_type": "markdown",
   "metadata": {},
   "source": [
    "###  Escreva um programa que solicite o percentual de crescimento de produção de uma empresa e informe se houve um crescimento (porcentagem positiva) ou decrescimento (porcentagem negativa)."
   ]
  },
  {
   "cell_type": "code",
   "execution_count": 3,
   "metadata": {},
   "outputs": [
    {
     "name": "stdout",
     "output_type": "stream",
     "text": [
      "A produção não sofreu alteração.\n"
     ]
    }
   ],
   "source": [
    "percentual_crescimento = int(input('Digite o percentual de crescimento da producao: %'))\n",
    "\n",
    "if percentual_crescimento > 0:\n",
    "    print(f'A produção aumentou {percentual_crescimento}%')\n",
    "elif percentual_crescimento < 0:\n",
    "    print(f'A produção diminuiu {percentual_crescimento}%')\n",
    "else:\n",
    "    print(f'A produção não sofreu alteração.')"
   ]
  },
  {
   "cell_type": "markdown",
   "metadata": {},
   "source": [
    "### Escreva um programa que determine se uma letra fornecida pela pessoa usuária é uma vogal ou consoante."
   ]
  },
  {
   "cell_type": "code",
   "execution_count": 7,
   "metadata": {},
   "outputs": [
    {
     "name": "stdout",
     "output_type": "stream",
     "text": [
      "A letra e é uma vogal.\n"
     ]
    }
   ],
   "source": [
    "letra = input('Digite uma letra: ')\n",
    "if letra in 'aeiou':\n",
    "    print(f'A letra {letra} é uma vogal.')\n",
    "else:\n",
    "    print(f'A letra {letra} é uma consoante.')"
   ]
  },
  {
   "cell_type": "markdown",
   "metadata": {},
   "source": [
    "### Escreva um programa que leia valores médios de preços de um modelo de carro por 3 anos consecutivos e exiba o valor mais alto e mais baixo entre esses três anos."
   ]
  },
  {
   "cell_type": "code",
   "execution_count": 8,
   "metadata": {},
   "outputs": [
    {
     "name": "stdout",
     "output_type": "stream",
     "text": [
      "O preço mais alto foi de R$200000.00 e o mais baixo foi de R$55000.00.\n"
     ]
    }
   ],
   "source": [
    "preco_ano1 = float(input('Digite o preço médio do produto no ano 1: '))\n",
    "preco_ano2 = float(input('Digite o preço médio do produto no ano 2: '))\n",
    "preco_ano3 = float(input('Digite o preço médio do produto no ano 3: '))\n",
    "\n",
    "# determinar o ano com o maior preço\n",
    "maior_preco = preco_ano1\n",
    "if preco_ano2 > maior_preco:\n",
    "    maior_preco = preco_ano2\n",
    "if preco_ano3 > maior_preco:\n",
    "    maior_preco = preco_ano3\n",
    "\n",
    "# determinar o ano com o menor preço\n",
    "menor_preco = preco_ano1\n",
    "if preco_ano2 < menor_preco:\n",
    "    menor_preco = preco_ano2\n",
    "if preco_ano3 < menor_preco:\n",
    "    menor_preco = preco_ano3\n",
    "\n",
    "print(f'O preço mais alto foi de R${maior_preco:.2f} e o mais baixo foi de R${menor_preco:.2f}.')"
   ]
  },
  {
   "cell_type": "markdown",
   "metadata": {},
   "source": [
    "### Escreva um programa que pergunte sobre o preço de três produtos e indique qual é o produto mais barato para comprar."
   ]
  },
  {
   "cell_type": "code",
   "execution_count": 13,
   "metadata": {},
   "outputs": [
    {
     "name": "stdout",
     "output_type": "stream",
     "text": [
      "O produto 2 é o mais barato, custando R$40.00.\n"
     ]
    }
   ],
   "source": [
    "produto1 = float(input('Digite o preço do produto 1: '))\n",
    "produto2 = float(input('Digite o preço do produto 2: '))\n",
    "produto3 = float(input('Digite o preço do produto 3: '))\n",
    "\n",
    "# determinar o produto mais barato\n",
    "if produto1 < produto2 and produto1 < produto3:\n",
    "    print(f'O produto 1 é o mais barato, custando R${produto1:.2f}.')\n",
    "elif produto2 < produto1 and produto2 < produto3:\n",
    "    print(f'O produto 2 é o mais barato, custando R${produto2:.2f}.')\n",
    "else:\n",
    "    print(f'O produto 3 é o mais barato, custando R${produto3:.2f}.')"
   ]
  },
  {
   "cell_type": "markdown",
   "metadata": {},
   "source": [
    "### Escreva um programa que leia três números e os exiba em ordem decrescente."
   ]
  },
  {
   "cell_type": "code",
   "execution_count": 17,
   "metadata": {},
   "outputs": [
    {
     "name": "stdout",
     "output_type": "stream",
     "text": [
      "964\n",
      "512\n",
      "250\n"
     ]
    }
   ],
   "source": [
    "numero1 = int(input('Digite o primeiro numero: '))\n",
    "numero2 = int(input('Digite o segundo numero: '))\n",
    "numero3 = int(input('Digite o terceiro numero: '))\n",
    "\n",
    "# exiba os números em ordem decrescente\n",
    "if numero1 > numero2 and numero1 > numero3: \n",
    "    print(numero1)\n",
    "    if numero2 > numero3:\n",
    "        print(numero2)\n",
    "        print(numero3)\n",
    "    else:\n",
    "        print(numero3)\n",
    "        print(numero2)\n",
    "elif numero2 > numero1 and numero2 > numero3:\n",
    "    print(numero2)\n",
    "    if numero1 > numero3:\n",
    "        print(numero1)\n",
    "        print(numero3)\n",
    "    else:\n",
    "        print(numero3)\n",
    "        print(numero1)\n",
    "else:\n",
    "    print(numero3)\n",
    "    if numero1 > numero2:\n",
    "        print(numero1)\n",
    "        print(numero2)\n",
    "    else:\n",
    "        print(numero2)\n",
    "        print(numero1)\n",
    "        "
   ]
  },
  {
   "cell_type": "markdown",
   "metadata": {},
   "source": [
    "### Escreva um programa que pergunte em qual turno a pessoa usuária estuda (\"manhã\", \"tarde\" ou \"noite\") e exiba a mensagem \"Bom Dia!\", \"Boa Tarde!\", \"Boa Noite!\", ou \"Valor Inválido!\", conforme o caso."
   ]
  },
  {
   "cell_type": "code",
   "execution_count": 20,
   "metadata": {},
   "outputs": [
    {
     "name": "stdout",
     "output_type": "stream",
     "text": [
      "Boa tarde!\n"
     ]
    }
   ],
   "source": [
    "horario_de_estudo = input('Qual turno você estuda? Digite manhã, tarde ou noite: ')\n",
    "\n",
    "if horario_de_estudo == 'manhã':\n",
    "    print('Bom dia!')\n",
    "elif horario_de_estudo == 'tarde':\n",
    "    print('Boa tarde!')\n",
    "elif horario_de_estudo == 'noite':\n",
    "    print('Boa noite!')\n",
    "else:\n",
    "    print('Valor inválido.')\n",
    "    "
   ]
  },
  {
   "cell_type": "markdown",
   "metadata": {},
   "source": [
    "### Escreva um programa que peça um número inteiro à pessoa usuária e determine se ele é par ou ímpar. Dica: Você pode utilizar o operador módulo %."
   ]
  },
  {
   "cell_type": "code",
   "execution_count": 23,
   "metadata": {},
   "outputs": [
    {
     "name": "stdout",
     "output_type": "stream",
     "text": [
      "O número 66 é par.\n"
     ]
    }
   ],
   "source": [
    "numero = int(input('Digite um número: '))\n",
    "\n",
    "if numero % 2 == 0:\n",
    "    print(f'O número {numero} é par.')\n",
    "else:\n",
    "    print(f'O número {numero} é ímpar.')"
   ]
  },
  {
   "cell_type": "markdown",
   "metadata": {},
   "source": [
    "### Escreva um programa que peça um número à pessoa usuária e informe se ele é inteiro ou decimal."
   ]
  },
  {
   "cell_type": "code",
   "execution_count": 26,
   "metadata": {},
   "outputs": [
    {
     "name": "stdout",
     "output_type": "stream",
     "text": [
      "O número 11.2 é decimal.\n"
     ]
    }
   ],
   "source": [
    "numero = float(input('Digite um número: '))\n",
    "\n",
    "# exiba se o numero é inteiro ou decimal\n",
    "if numero % 1 == 0:\n",
    "    print(f'O número {numero} é inteiro.')\n",
    "else:\n",
    "    print(f'O número {numero} é decimal.')\n",
    "    "
   ]
  },
  {
   "cell_type": "markdown",
   "metadata": {},
   "source": [
    "### Um programa deve ser escrito para ler dois números e, em seguida, perguntar à pessoa usuária qual operação ele deseja realizar. O resultado da operação deve incluir informações sobre o número - se é par ou ímpar, positivo ou negativo e inteiro ou decimal."
   ]
  },
  {
   "cell_type": "code",
   "execution_count": 30,
   "metadata": {},
   "outputs": [
    {
     "name": "stdout",
     "output_type": "stream",
     "text": [
      "O resultado 6 é par.\n",
      "O resultado 6 é positivo.\n",
      "O resultado 6 é inteiro.\n"
     ]
    }
   ],
   "source": [
    "numero1 = int(input('Digite o primeiro numero: '))\n",
    "numero2 = int(input('Digite o segundo numero: '))\n",
    "\n",
    "operacao = input('Digite a operação desejada (+, -, *, /): ')\n",
    "\n",
    "# realizando a operação\n",
    "if operacao == '+':\n",
    "    resultado = numero1 + numero2\n",
    "elif operacao == '-':\n",
    "    resultado = numero1 - numero2\n",
    "elif operacao == '*':\n",
    "    resultado = numero1 * numero2\n",
    "elif operacao == '/':\n",
    "    resultado = numero1 / numero2\n",
    "else:\n",
    "    print('Operação inválida. O resultado será 0.')\n",
    "    resultado = 0\n",
    "\n",
    "# se o numero eh par ou impar\n",
    "if resultado % 2 == 0:\n",
    "    print(f'O resultado {resultado} é par.')\n",
    "else:   \n",
    "    print(f'O resultado {resultado} é ímpar.')\n",
    "\n",
    "# se o numero eh positivo ou negativo\n",
    "if resultado > 0:\n",
    "    print(f'O resultado {resultado} é positivo.')\n",
    "elif resultado < 0:\n",
    "    print(f'O resultado {resultado} é negativo.')\n",
    "else:\n",
    "    print(f'O resultado {resultado} é nulo.')\n",
    "\n",
    "# se o numero eh inteiro ou decimal\n",
    "if resultado % 1 == 0:\n",
    "    print(f'O resultado {resultado} é inteiro.')\n",
    "else:\n",
    "    print(f'O resultado {resultado} é decimal.')\n"
   ]
  },
  {
   "cell_type": "markdown",
   "metadata": {},
   "source": [
    "### Um estabelecimento está vendendo combustíveis com descontos variados. Para o etanol, se a quantidade comprada for até 15 litros, o desconto será de 2% por litro. Caso contrário, será de 4% por litro. Para o diesel, se a quantidade comprada for até 15 litros, o desconto será de 3% por litro. Caso contrário, será de 5% por litro. O preço do litro de diesel é R$ 2,00 e o preço do litro de etanol é R$ 1,70. Escreva um programa que leia a quantidade de litros vendidos e o tipo de combustível (E para etanol e D para diesel) e calcule o valor a ser pago pelo cliente. Tenha em mente algumas dicas:\n",
    "\n",
    "    - O do valor do desconto será a multiplicação entre preço do litro, quantidade de litros e o valor do desconto.\n",
    "    - O valor a ser pago por um cliente será o resultado da multiplicação do preço do litro pela quantidade de litros menos o valor de desconto resultante do cálculo."
   ]
  },
  {
   "cell_type": "code",
   "execution_count": 34,
   "metadata": {},
   "outputs": [
    {
     "name": "stdout",
     "output_type": "stream",
     "text": [
      "O valor a ser pago de diesel é de R$190.00.\n"
     ]
    }
   ],
   "source": [
    "combustivel = input('Digite o tipo de combustível: E-etanol, D-diesel: ')\n",
    "litros = float(input('Digite a quantidade de litros: '))\n",
    "preco_etanol = 1.70\n",
    "preco_diesel = 2.00\n",
    "\n",
    "# Para o etanol, se a quantidade comprada for até 15 litros, o desconto será de 2% por litro. Caso contrário, será de 4% por litro.\n",
    "if combustivel == 'E':\n",
    "    if litros <= 15:\n",
    "        valor = litros * preco_etanol * 0.98\n",
    "    else:\n",
    "        valor = litros * preco_etanol * 0.96\n",
    "    print(f'O valor a ser pago de etanol é de R${valor:.2f}.')\n",
    "\n",
    "# Para o diesel, se a quantidade comprada for até 15 litros, o desconto será de 3% por litro. Caso contrário, será de 5% por litro. \n",
    "elif combustivel == 'D':\n",
    "    if litros <= 15:\n",
    "        valor = litros * preco_diesel * 0.97\n",
    "    else:\n",
    "        valor = litros * preco_diesel * 0.95\n",
    "    print(f'O valor a ser pago de diesel é de R${valor:.2f}.')\n",
    "\n",
    "\n"
   ]
  },
  {
   "cell_type": "markdown",
   "metadata": {},
   "source": [
    "### Em uma empresa de venda de imóveis você precisa criar um código que analise os dados de vendas anuais para ajudar a diretoria na tomada de decisão. O código precisa coletar os dados de quantidade de venda durante os anos de 2022 e 2023 e fazer um cálculo de variação percentual. A partir do valor da variação, deve ser enviada às seguintes sugestões:\n",
    "\n",
    "    - Para variação acima de 20%: bonificação para o time de vendas.\n",
    "    - Para variação entre 2% e 20%: pequena bonificação para time de vendas.\n",
    "    - Para variação entre 2% e -10%: planejamento de políticas de incentivo às vendas.\n",
    "    - Para bonificações abaixo de -10%: corte de gastos."
   ]
  },
  {
   "cell_type": "code",
   "execution_count": 39,
   "metadata": {},
   "outputs": [
    {
     "name": "stdout",
     "output_type": "stream",
     "text": [
      "Atenção! O time de vendas precisa de corte de gastos.\n"
     ]
    }
   ],
   "source": [
    "quantidade_vendas1 = int(input('Digite a quantidade de vendas de imóveis no ano de 2022: '))\n",
    "quantidade_vendas2 = int(input('Digite a quantidade de vendas de imóveis no ano de 2023: '))\n",
    "\n",
    "# calculo de variação percentual\n",
    "variacao_percentual = (quantidade_vendas2 - quantidade_vendas1) / quantidade_vendas1 * 100\n",
    "\n",
    "# Se a variação acima de 20%: bonificação para o time de vendas.\n",
    "if variacao_percentual > 20:\n",
    "    print(f'Parabéns! O time de vendas receberá uma bonificação!')\n",
    "\n",
    "# Se a variação entre 2% e 20%: pequena bonificação para time de vendas.\n",
    "elif variacao_percentual >= 2 and variacao_percentual <= 20:\n",
    "    print(f'Parabéns! O time de vendas receberá uma pequena bonificação!')\n",
    "\n",
    "# Se a variação entre 2% e -10%: planejamento de políticas de incentivo às vendas.\n",
    "elif variacao_percentual >= -10 and variacao_percentual < 2:\n",
    "    print(f'Atenção! O time de vendas precisa de planejamento de políticas de incentivo às vendas.')\n",
    "\n",
    "# bonificações abaixo de -10%: corte de gastos.\n",
    "else:\n",
    "    print(f'Atenção! O time de vendas precisa de corte de gastos.')"
   ]
  },
  {
   "cell_type": "code",
   "execution_count": null,
   "metadata": {},
   "outputs": [],
   "source": []
  },
  {
   "cell_type": "markdown",
   "metadata": {},
   "source": [
    "# While"
   ]
  },
  {
   "cell_type": "code",
   "execution_count": 1,
   "metadata": {},
   "outputs": [
    {
     "name": "stdout",
     "output_type": "stream",
     "text": [
      "1\n",
      "2\n",
      "3\n",
      "4\n",
      "5\n",
      "6\n",
      "7\n",
      "8\n",
      "9\n",
      "10\n"
     ]
    }
   ],
   "source": [
    "contador = 1\n",
    "\n",
    "while contador <= 10:\n",
    "    print(contador)\n",
    "    contador += 1"
   ]
  },
  {
   "cell_type": "code",
   "execution_count": 7,
   "metadata": {},
   "outputs": [
    {
     "name": "stdout",
     "output_type": "stream",
     "text": [
      "Media: 5.00\n",
      "Media: 5.50\n",
      "Media: 5.00\n"
     ]
    }
   ],
   "source": [
    "contador = 1\n",
    "while contador <= 3:\n",
    "    nota = float(input('Digite a nota: '))\n",
    "    nota_2 = float(input('Digite a nota: '))\n",
    "    print(f'Media: {(nota + nota_2) / 2:.2f}')\n",
    "    contador += 1"
   ]
  },
  {
   "cell_type": "markdown",
   "metadata": {},
   "source": [
    "# For"
   ]
  },
  {
   "cell_type": "code",
   "execution_count": 4,
   "metadata": {},
   "outputs": [
    {
     "name": "stdout",
     "output_type": "stream",
     "text": [
      "1\n",
      "2\n",
      "3\n",
      "4\n",
      "5\n",
      "6\n",
      "7\n",
      "8\n",
      "9\n",
      "10\n"
     ]
    }
   ],
   "source": [
    "for contador in range(1, 11):\n",
    "    print(contador) "
   ]
  },
  {
   "cell_type": "code",
   "execution_count": 8,
   "metadata": {},
   "outputs": [
    {
     "name": "stdout",
     "output_type": "stream",
     "text": [
      "Media: 10.00\n",
      "Media: 5.50\n",
      "Media: 5.00\n"
     ]
    }
   ],
   "source": [
    "for contador in range(1, 4):\n",
    "    nota = float(input('Digite a nota: '))\n",
    "    nota_2 = float(input('Digite a nota: '))\n",
    "    print(f'Media: {(nota + nota_2) / 2:.2f}')"
   ]
  },
  {
   "cell_type": "code",
   "execution_count": 9,
   "metadata": {},
   "outputs": [
    {
     "name": "stdout",
     "output_type": "stream",
     "text": [
      "Total de imóveis construídos: 27.0 imóveis\n"
     ]
    }
   ],
   "source": [
    "total_imoveis = 0\n",
    "\n",
    "for ano in range(2017,2023):\n",
    "  quantidade_imoveis = float(input(f'Digite a quantidade de imóveis no ano {ano}: '))\n",
    "  total_imoveis += quantidade_imoveis\n",
    "\n",
    "print(f'Total de imóveis construídos: {total_imoveis} imóveis')"
   ]
  },
  {
   "cell_type": "code",
   "execution_count": 10,
   "metadata": {},
   "outputs": [
    {
     "name": "stdout",
     "output_type": "stream",
     "text": [
      "1\n",
      "2\n",
      "3\n",
      "5\n"
     ]
    }
   ],
   "source": [
    "# continue interrompe a iteração atual do laço e salta para a próxima iteração, ou seja, retorna ao início do código.\n",
    "\n",
    "for i in range(1,6):\n",
    "    if i == 4:\n",
    "        continue\n",
    "    print(i)"
   ]
  },
  {
   "cell_type": "code",
   "execution_count": 11,
   "metadata": {},
   "outputs": [
    {
     "name": "stdout",
     "output_type": "stream",
     "text": [
      "1\n",
      "2\n",
      "3\n"
     ]
    }
   ],
   "source": [
    "#break vai interromper a execução do laço completamente, saindo do bloco de código.\n",
    "for i in range(1,6):\n",
    "    if i == 4:\n",
    "        break\n",
    "    print(i)"
   ]
  },
  {
   "cell_type": "markdown",
   "metadata": {},
   "source": [
    "# Escreva um programa que peça dois números inteiros e imprima todos os números inteiros entre eles."
   ]
  },
  {
   "cell_type": "code",
   "execution_count": 23,
   "metadata": {},
   "outputs": [
    {
     "name": "stdout",
     "output_type": "stream",
     "text": [
      "1\n",
      "2\n",
      "3\n",
      "4\n",
      "5\n",
      "6\n",
      "7\n",
      "8\n",
      "9\n",
      "10\n"
     ]
    }
   ],
   "source": [
    "inicio = int(input('Digite o número inicial: '))\n",
    "fim = int(input('Digite o número final: '))\n",
    "\n",
    "if inicio < fim:\n",
    "    for i in range(inicio, fim + 1):\n",
    "        print(i)\n",
    "elif inicio > fim:\n",
    "    for i in range(inicio, fim - 1, -1):\n",
    "        print(i)\n",
    "else:\n",
    "    print('Valores iguais.')"
   ]
  },
  {
   "cell_type": "markdown",
   "metadata": {},
   "source": [
    "# Escreva um programa para calcular quantos dias levará para a colônia de uma bactéria A ultrapassar ou igualar a colônia de uma bactéria B, com base nas taxas de crescimento de 3% e 1,5% respectivamente. Considere que a colônia A inicia com 4 elementos e a colônia B com 10 elementos."
   ]
  },
  {
   "cell_type": "code",
   "execution_count": 24,
   "metadata": {},
   "outputs": [
    {
     "name": "stdout",
     "output_type": "stream",
     "text": [
      "Irá demorar 63 dias para a colônia A ultrapassar a colônia B.\n"
     ]
    }
   ],
   "source": [
    "colonia_a = 4\n",
    "colonia_b = 10\n",
    "\n",
    "taxa_a = 0.03\n",
    "taxa_b = 0.015\n",
    "\n",
    "dias = 0\n",
    "\n",
    "while colonia_a <= colonia_b:\n",
    "    colonia_a *= (1 + taxa_a)\n",
    "    colonia_b *= (1 + taxa_b)\n",
    "    dias += 1\n",
    "print(f'Irá demorar {dias} dias para a colônia A ultrapassar a colônia B.')"
   ]
  },
  {
   "cell_type": "markdown",
   "metadata": {},
   "source": [
    "# Para tratar uma quantidade de 15 dados de avaliações de pessoas usuárias de um serviço da empresa, precisamos verificar se as notas são válidas. Então, escreva um programa que vai receber a nota de 0 a 5 de todos os dados e verificar se é um valor válido. Caso seja inserido uma nota acima de 5 ou abaixo de 0, repita até que a pessoa usuária insira um valor válido."
   ]
  },
  {
   "cell_type": "code",
   "execution_count": 29,
   "metadata": {},
   "outputs": [
    {
     "name": "stdout",
     "output_type": "stream",
     "text": [
      "Verificação feita. Todas as notas são válidas.\n"
     ]
    }
   ],
   "source": [
    "for i in range(1,16):\n",
    "    nota = float(input(f'Digite a nota do usuario (nota de 0  a 5) {i}: '))\n",
    "\n",
    "    while nota < 0 or nota > 5:\n",
    "        nota = float(input(f'Nota invalida. Digite outra nota do usuario {i}: '))\n",
    "print('Verificação feita. Todas as notas são válidas.')"
   ]
  },
  {
   "cell_type": "markdown",
   "metadata": {},
   "source": [
    "# Desenvolva um programa que leia um conjunto indeterminado de temperaturas em Celsius e faça uma análise. Portanto, escreva um programa que leia temperaturas e informe a média delas. A leitura deve ser encerrada ao ser enviado o valor -273°C."
   ]
  },
  {
   "cell_type": "code",
   "execution_count": 30,
   "metadata": {},
   "outputs": [
    {
     "name": "stdout",
     "output_type": "stream",
     "text": [
      "A média das temperaturas é de -15.10 graus Celsius.\n"
     ]
    }
   ],
   "source": [
    "temperatura = float(input('Digite a temperatura em Celsius: '))\n",
    "\n",
    "contadora = 0\n",
    "soma = 0\n",
    "\n",
    "while temperatura != -273:\n",
    "    soma += temperatura\n",
    "    contadora += 1\n",
    "    temperatura = float(input('Digite a temperatura em Celsius: '))\n",
    "\n",
    "media = soma / contadora\n",
    "print(f'A média das temperaturas é de {media:.2f} graus Celsius.')"
   ]
  },
  {
   "cell_type": "code",
   "execution_count": 32,
   "metadata": {},
   "outputs": [
    {
     "name": "stdout",
     "output_type": "stream",
     "text": [
      "A média das temperaturas é: 26.0\n"
     ]
    }
   ],
   "source": [
    "# coletamos a temperatura\n",
    "temperatura = float(input('Insira a temperatura em Celsius: '))\n",
    "\n",
    "# inicializamos uma contadora e soma para a média\n",
    "contadora = 0\n",
    "soma = 0\n",
    "\n",
    "# nosso código executa sempre até o valor de temperatura for igual a -273\n",
    "while temperatura != -273:\n",
    "    # a soma é dada com a adição da temperatura à variavel soma\n",
    "    soma += temperatura\n",
    "    # contamos a quantidade de valores coletados através da contadora\n",
    "    contadora += 1\n",
    "    # coletamos novamente a temperatura\n",
    "    temperatura = float(input('Insira a temperatura em Celsius: '))\n",
    "\n",
    "media = soma / contadora\n",
    "\n",
    "print(f'A média das temperaturas é: {media}')"
   ]
  },
  {
   "cell_type": "markdown",
   "metadata": {},
   "source": [
    "# Escreva um programa que calcule o fatorial de um número inteiro fornecido pela pessoa usuária. O fatorial de um número inteiro é a multiplicação desse número por todos os seus antecessores até o número 1. Por exemplo, o fatorial de 5 é 5 x 4 x 3 x 2 x 1 = 120."
   ]
  },
  {
   "cell_type": "code",
   "execution_count": 36,
   "metadata": {},
   "outputs": [
    {
     "name": "stdout",
     "output_type": "stream",
     "text": [
      "O fatorial de 8 é 40320.\n"
     ]
    }
   ],
   "source": [
    "numero = int(input('Digite um número: '))\n",
    "\n",
    "fatorial = 1\n",
    "\n",
    "i = numero\n",
    "\n",
    "while i > 0:\n",
    "    fatorial *= i\n",
    "    i -= 1\n",
    "\n",
    "print(f'O fatorial de {numero} é {fatorial}.')\n"
   ]
  },
  {
   "cell_type": "markdown",
   "metadata": {},
   "source": [
    "# Escreva um programa que gere a tabuada de um número inteiro de 1 a 10, de acordo com a escolha da pessoa usuária. Como exemplo, para o número 2, a tabuada deve ser mostrada no seguinte formato:\n",
    "    Tabuada do 2:\n",
    "    2 x 1 = 2\n",
    "    2 x 2 = 4\n",
    "    [...]\n",
    "    2 x 10 = 20"
   ]
  },
  {
   "cell_type": "code",
   "execution_count": 37,
   "metadata": {},
   "outputs": [
    {
     "name": "stdout",
     "output_type": "stream",
     "text": [
      "Tabuada do 10:\n",
      "10 x 1 = 10\n",
      "10 x 2 = 20\n",
      "10 x 3 = 30\n",
      "10 x 4 = 40\n",
      "10 x 5 = 50\n",
      "10 x 6 = 60\n",
      "10 x 7 = 70\n",
      "10 x 8 = 80\n",
      "10 x 9 = 90\n",
      "10 x 10 = 100\n"
     ]
    }
   ],
   "source": [
    "numero = int(input('Informe um numero inteiro de 1 a 10: '))\n",
    "\n",
    "print(f'Tabuada do {numero}:')\n",
    "for i in range(1,11):\n",
    "    print(f'{numero} x {i} = {numero * i}')"
   ]
  },
  {
   "cell_type": "markdown",
   "metadata": {},
   "source": [
    "# Os números primos possuem várias aplicações dentro da Ciência de Dados, por exemplo, na criptografia e segurança. Um número primo é aquele que é divisível apenas por um e por ele mesmo. Faça um programa que peça um número inteiro e determine se ele é ou não um número primo."
   ]
  },
  {
   "cell_type": "code",
   "execution_count": 42,
   "metadata": {},
   "outputs": [
    {
     "name": "stdout",
     "output_type": "stream",
     "text": [
      "O número 89 é primo.\n"
     ]
    }
   ],
   "source": [
    "numero = int(input('Digite um número: '))\n",
    "\n",
    "if numero > 1:\n",
    "    for i in range(2, numero):\n",
    "        if numero % i == 0:\n",
    "            print(f'O número {numero} não é primo.')\n",
    "            break\n",
    "    else:\n",
    "        print(f'O número {numero} é primo.')\n",
    "else:\n",
    "    print(f'O número {numero} não é primo.')"
   ]
  },
  {
   "cell_type": "markdown",
   "metadata": {},
   "source": [
    "# Vamos entender a distribuição de idades de pensionistas de uma empresa de previdência. Escreva um programa que leia as idades de uma quantidade não informada de clientes e mostre a distribuição em intervalos de [0-25], [26-50], [51-75] e [76-100]. Encerre a entrada de dados com um número negativo."
   ]
  },
  {
   "cell_type": "code",
   "execution_count": 44,
   "metadata": {},
   "outputs": [
    {
     "name": "stdout",
     "output_type": "stream",
     "text": [
      "Distruibuição das idades:\n",
      "0 a 25 anos: 2\n",
      "26 a 50 anos: 6\n",
      "51 a 75 anos: 2\n",
      "76 a 100 anos: 0\n"
     ]
    }
   ],
   "source": [
    "idade = int(input('Digite a idade (ou um número negativo para encerrar): '))\n",
    "\n",
    "contador_0_25 = 0\n",
    "contador_26_50 = 0\n",
    "contador_51_75 = 0\n",
    "contador_76_100 = 0\n",
    "\n",
    "while idade >= 0:\n",
    "    if idade >= 0 and idade <= 25:\n",
    "        contador_0_25 += 1\n",
    "    elif idade >= 26 and idade <= 50:\n",
    "        contador_26_50 += 1\n",
    "    elif idade >= 51 and idade <= 75:\n",
    "        contador_51_75 += 1\n",
    "    else:\n",
    "        contador_76_100 += 1\n",
    "    idade = int(input('Digite a idade (ou um número negativo para encerrar): '))\n",
    "\n",
    "print('Distruibuição das idades:')\n",
    "print(f'0 a 25 anos: {contador_0_25}')\n",
    "print(f'26 a 50 anos: {contador_26_50}')\n",
    "print(f'51 a 75 anos: {contador_51_75}')\n",
    "print(f'76 a 100 anos: {contador_76_100}')"
   ]
  },
  {
   "cell_type": "markdown",
   "metadata": {},
   "source": [
    "# Em uma eleição para gerência em uma empresa com 20 funcionários, existem quatro candidatos. Escreva um programa que calcule o vencedor da eleição. A votação ocorreu da seguinte maneira:\n",
    "\n",
    "    - Cada funcionário votou em um dos quatro candidatos (representados pelos números 1, 2, 3 e 4).\n",
    "    - Também foram contabilizados os votos nulos (representado pelo número 5) e os votos em branco (representado pelo número 6).\n",
    "\n",
    "# Ao final da votação, o programa deve exibir o total de votos para cada candidato, o número de votos nulos e o número de votos em branco. Além disso, deve calcular e exibir a porcentagem de votos nulos em relação ao total de votos e a porcentagem de votos em branco em relação ao total de votos."
   ]
  },
  {
   "cell_type": "code",
   "execution_count": 49,
   "metadata": {},
   "outputs": [
    {
     "name": "stdout",
     "output_type": "stream",
     "text": [
      "Votos candidato 1: 11\n",
      "Votos candidato 2: 4\n",
      "Votos candidato 3: 2\n",
      "Votos candidato 4: 1\n",
      "Votos nulos: 3\n",
      "Votos em branco: 0\n",
      "Percentual de votos nulos: 15.0\n",
      "Percentual de votos em branco: 0.0\n"
     ]
    }
   ],
   "source": [
    "votos_candidato1 = 0\n",
    "votos_candidato2 = 0\n",
    "votos_candidato3 = 0\n",
    "votos_candidato4 = 0\n",
    "votos_nulos = 0\n",
    "votos_branco = 0\n",
    "\n",
    "for i in range(0,21):\n",
    "    voto = int(input('Informe seu voto: '))\n",
    "    if voto == 1:\n",
    "        votos_candidato1 += 1\n",
    "    elif voto == 2:\n",
    "        votos_candidato2 += 1\n",
    "    elif voto == 3:\n",
    "        votos_candidato3 += 1\n",
    "    elif voto == 4:\n",
    "        votos_candidato4 += 1\n",
    "    elif voto == 5:\n",
    "        votos_nulos += 1\n",
    "    elif voto == 6:\n",
    "        votos_branco += 1\n",
    "    else:\n",
    "        print('Voto inválido.')\n",
    "\n",
    "print(f'Votos candidato 1: {votos_candidato1}')\n",
    "print(f'Votos candidato 2: {votos_candidato2}')\n",
    "print(f'Votos candidato 3: {votos_candidato3}')\n",
    "print(f'Votos candidato 4: {votos_candidato4}')\n",
    "print(f'Votos nulos: {votos_nulos}')\n",
    "print(f'Votos em branco: {votos_branco}')\n",
    "print(f'Percentual de votos nulos: {(votos_nulos / 20 * 100)}')\n",
    "print(f'Percentual de votos em branco: {(votos_branco / 20 * 100)}')"
   ]
  },
  {
   "cell_type": "code",
   "execution_count": null,
   "metadata": {},
   "outputs": [],
   "source": []
  }
 ],
 "metadata": {
  "kernelspec": {
   "display_name": "Python 3",
   "language": "python",
   "name": "python3"
  },
  "language_info": {
   "codemirror_mode": {
    "name": "ipython",
    "version": 3
   },
   "file_extension": ".py",
   "mimetype": "text/x-python",
   "name": "python",
   "nbconvert_exporter": "python",
   "pygments_lexer": "ipython3",
   "version": "3.10.6"
  },
  "orig_nbformat": 4
 },
 "nbformat": 4,
 "nbformat_minor": 2
}
