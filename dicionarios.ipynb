{
 "cells": [
  {
   "cell_type": "markdown",
   "metadata": {},
   "source": [
    "# Dicionarios"
   ]
  },
  {
   "cell_type": "code",
   "execution_count": 6,
   "metadata": {},
   "outputs": [
    {
     "data": {
      "text/plain": [
       "{'nome': 'Guilherme',\n",
       " 'idade': 27,\n",
       " 'cidade': 'São Paulo',\n",
       " 'curso': 'Ciência da Computação'}"
      ]
     },
     "execution_count": 6,
     "metadata": {},
     "output_type": "execute_result"
    }
   ],
   "source": [
    "cadastro = {'nome': 'Guilherme',\n",
    "              'idade': 27,\n",
    "              'cidade': 'São Paulo',\n",
    "              'curso': 'Ciência da Computação'}\n",
    "cadastro"
   ]
  },
  {
   "cell_type": "code",
   "execution_count": 7,
   "metadata": {},
   "outputs": [
    {
     "data": {
      "text/plain": [
       "'Ciência da Computação'"
      ]
     },
     "execution_count": 7,
     "metadata": {},
     "output_type": "execute_result"
    }
   ],
   "source": [
    "cadastro['curso']"
   ]
  },
  {
   "cell_type": "code",
   "execution_count": 8,
   "metadata": {},
   "outputs": [
    {
     "data": {
      "text/plain": [
       "{'nome': 'Guilherme', 'idade': 27, 'cidade': 'São Paulo', 'curso': 'Python'}"
      ]
     },
     "execution_count": 8,
     "metadata": {},
     "output_type": "execute_result"
    }
   ],
   "source": [
    "# alterando um elemento do dicionário\n",
    "\n",
    "cadastro['curso'] = 'Python'\n",
    "cadastro"
   ]
  },
  {
   "cell_type": "code",
   "execution_count": 11,
   "metadata": {},
   "outputs": [
    {
     "data": {
      "text/plain": [
       "{'nome': 'Guilherme',\n",
       " 'idade': 27,\n",
       " 'cidade': 'São Paulo',\n",
       " 'curso': 'Python',\n",
       " 'valor': 250.0}"
      ]
     },
     "execution_count": 11,
     "metadata": {},
     "output_type": "execute_result"
    }
   ],
   "source": [
    "# adicionando um novo elemento ao dicionário\n",
    "\n",
    "cadastro['valor']= 250.00\n",
    "cadastro"
   ]
  },
  {
   "cell_type": "code",
   "execution_count": 15,
   "metadata": {},
   "outputs": [
    {
     "data": {
      "text/plain": [
       "{'nome': 'Guilherme', 'idade': 27, 'curso': 'Python', 'valor': 250.0}"
      ]
     },
     "execution_count": 15,
     "metadata": {},
     "output_type": "execute_result"
    }
   ],
   "source": [
    "# remover elemento de um dicionário\n",
    "\n",
    "cadastro.pop('cidade')\n",
    "cadastro"
   ]
  },
  {
   "cell_type": "code",
   "execution_count": 16,
   "metadata": {},
   "outputs": [
    {
     "data": {
      "text/plain": [
       "dict_items([('nome', 'Guilherme'), ('idade', 27), ('curso', 'Python'), ('valor', 250.0)])"
      ]
     },
     "execution_count": 16,
     "metadata": {},
     "output_type": "execute_result"
    }
   ],
   "source": [
    "# items() - retorna uma lista de tuplas, cada tupla contendo um par chave-valor\n",
    "\n",
    "cadastro.items()"
   ]
  },
  {
   "cell_type": "code",
   "execution_count": 17,
   "metadata": {},
   "outputs": [
    {
     "data": {
      "text/plain": [
       "dict_keys(['nome', 'idade', 'curso', 'valor'])"
      ]
     },
     "execution_count": 17,
     "metadata": {},
     "output_type": "execute_result"
    }
   ],
   "source": [
    "# keys() retorna uma lista com todas as chaves do dicionário\n",
    "\n",
    "cadastro.keys()"
   ]
  },
  {
   "cell_type": "code",
   "execution_count": 18,
   "metadata": {},
   "outputs": [
    {
     "data": {
      "text/plain": [
       "dict_values(['Guilherme', 27, 'Python', 250.0])"
      ]
     },
     "execution_count": 18,
     "metadata": {},
     "output_type": "execute_result"
    }
   ],
   "source": [
    "# values() retorna uma lista de valores de um dicionário\n",
    "\n",
    "cadastro.values()"
   ]
  },
  {
   "cell_type": "markdown",
   "metadata": {},
   "source": [
    "#### Utilizando for no dicionário"
   ]
  },
  {
   "cell_type": "code",
   "execution_count": 19,
   "metadata": {},
   "outputs": [
    {
     "name": "stdout",
     "output_type": "stream",
     "text": [
      "Guilherme\n",
      "27\n",
      "Python\n",
      "250.0\n"
     ]
    }
   ],
   "source": [
    "# forma de retornar os valores de um dicionario, (mais complexo)\n",
    "\n",
    "for keys in cadastro.keys():\n",
    "    print(cadastro[keys])"
   ]
  },
  {
   "cell_type": "code",
   "execution_count": 20,
   "metadata": {},
   "outputs": [
    {
     "name": "stdout",
     "output_type": "stream",
     "text": [
      "Guilherme\n",
      "27\n",
      "São Paulo\n",
      "Ciência da Computação\n"
     ]
    }
   ],
   "source": [
    "# forma de retornar os valores de um dicionário, (mais simples)\n",
    "\n",
    "for values in dicionario.values():\n",
    "    print(values)   "
   ]
  },
  {
   "cell_type": "code",
   "execution_count": 21,
   "metadata": {},
   "outputs": [
    {
     "name": "stdout",
     "output_type": "stream",
     "text": [
      "nome Guilherme\n",
      "idade 27\n",
      "cidade São Paulo\n",
      "curso Ciência da Computação\n"
     ]
    }
   ],
   "source": [
    "# utilizando for pra items()\n",
    "\n",
    "for chave, valor in dicionario.items():\n",
    "    print(chave, valor)"
   ]
  },
  {
   "cell_type": "code",
   "execution_count": null,
   "metadata": {},
   "outputs": [],
   "source": []
  },
  {
   "cell_type": "code",
   "execution_count": null,
   "metadata": {},
   "outputs": [],
   "source": []
  },
  {
   "cell_type": "code",
   "execution_count": null,
   "metadata": {},
   "outputs": [],
   "source": []
  },
  {
   "cell_type": "code",
   "execution_count": null,
   "metadata": {},
   "outputs": [],
   "source": []
  },
  {
   "cell_type": "code",
   "execution_count": null,
   "metadata": {},
   "outputs": [],
   "source": []
  },
  {
   "cell_type": "markdown",
   "metadata": {},
   "source": [
    "### Exemplos de dicionários"
   ]
  },
  {
   "cell_type": "code",
   "execution_count": 12,
   "metadata": {},
   "outputs": [
    {
     "data": {
      "text/plain": [
       "{'nomes': ['televisão', 'celular', 'notebook', 'geladeira', 'fogão'],\n",
       " 'precos': [2000, 1500, 3500, 4000, 1500]}"
      ]
     },
     "execution_count": 12,
     "metadata": {},
     "output_type": "execute_result"
    }
   ],
   "source": [
    "loja = {'nomes': ['televisão', 'celular', 'notebook', 'geladeira', 'fogão'],\n",
    "        'precos': [2000, 1500, 3500, 4000, 1500]}\n",
    "loja"
   ]
  },
  {
   "cell_type": "code",
   "execution_count": 14,
   "metadata": {},
   "outputs": [
    {
     "data": {
      "text/plain": [
       "dict_items([('nomes', ['televisão', 'celular', 'notebook', 'geladeira', 'fogão']), ('precos', [2000, 1500, 3500, 4000, 1500])])"
      ]
     },
     "execution_count": 14,
     "metadata": {},
     "output_type": "execute_result"
    }
   ],
   "source": [
    "loja.items()"
   ]
  },
  {
   "cell_type": "code",
   "execution_count": 13,
   "metadata": {},
   "outputs": [
    {
     "name": "stdout",
     "output_type": "stream",
     "text": [
      "Chave: nomes\n",
      "Elementos:\n",
      "televisão\n",
      "celular\n",
      "notebook\n",
      "geladeira\n",
      "fogão\n",
      "Chave: precos\n",
      "Elementos:\n",
      "2000\n",
      "1500\n",
      "3500\n",
      "4000\n",
      "1500\n"
     ]
    }
   ],
   "source": [
    "for chave, elementos in loja.items():\n",
    "  print(f'Chave: {chave}\\nElementos:')\n",
    "  for dado in elementos:\n",
    "    print(dado)"
   ]
  },
  {
   "cell_type": "code",
   "execution_count": null,
   "metadata": {},
   "outputs": [],
   "source": []
  }
 ],
 "metadata": {
  "kernelspec": {
   "display_name": "Python 3",
   "language": "python",
   "name": "python3"
  },
  "language_info": {
   "codemirror_mode": {
    "name": "ipython",
    "version": 3
   },
   "file_extension": ".py",
   "mimetype": "text/x-python",
   "name": "python",
   "nbconvert_exporter": "python",
   "pygments_lexer": "ipython3",
   "version": "3.10.12"
  },
  "orig_nbformat": 4
 },
 "nbformat": 4,
 "nbformat_minor": 2
}
